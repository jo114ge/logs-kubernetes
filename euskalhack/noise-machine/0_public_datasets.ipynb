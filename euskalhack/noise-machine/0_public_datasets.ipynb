{
 "cells": [
  {
   "cell_type": "markdown",
   "id": "f55f94d7-8436-4f54-be69-37ca35c803a3",
   "metadata": {},
   "source": [
    "https://www.kaggle.com/datasets/redamorsli/kube-ids0/data"
   ]
  },
  {
   "cell_type": "markdown",
   "id": "3d5b1d03-9019-4b6b-a01c-823a9242f500",
   "metadata": {},
   "source": [
    "https://github.com/yigitsever/kubernetes-dataset/tree/main"
   ]
  },
  {
   "cell_type": "markdown",
   "id": "16be0fdf-1adc-4769-b68f-6df406c5dd97",
   "metadata": {},
   "source": [
    "https://data.4tu.nl/articles/dataset/AssureMOSS_Kubernetes_Run-time_Monitoring_Dataset/20463687\n"
   ]
  },
  {
   "cell_type": "code",
   "execution_count": null,
   "id": "7db0aebe-a088-400d-9808-4bead69fd2c0",
   "metadata": {},
   "outputs": [],
   "source": [
    " "
   ]
  }
 ],
 "metadata": {
  "kernelspec": {
   "display_name": "Bash",
   "language": "bash",
   "name": "bash"
  },
  "language_info": {
   "codemirror_mode": "shell",
   "file_extension": ".sh",
   "mimetype": "text/x-sh",
   "name": "bash"
  }
 },
 "nbformat": 4,
 "nbformat_minor": 5
}
