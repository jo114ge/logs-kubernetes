{
 "cells": [
  {
   "cell_type": "code",
   "execution_count": null,
   "metadata": {
    "vscode": {
     "languageId": "plaintext"
    }
   },
   "outputs": [],
   "source": [
    "# Gitea Bots Explanation\n",
    "\n",
    "This notebook explains how the two independent bots work: **Frontend Bot** and **Malicious Bot**.\n",
    "\n",
    "## Overview\n",
    "\n",
    "We have developed two autonomous bots that interact with a Gitea instance to demonstrate different use cases:\n",
    "\n",
    "1. **Frontend Bot** - Creates legitimate frontend projects\n",
    "2. **Malicious Bot** - Creates repositories with malicious content (for educational purposes)\n",
    "\n",
    "Both bots are completely independent and no longer rely on shared code (`bot_common.py` has been removed).\n"
   ]
  },
  {
   "cell_type": "code",
   "execution_count": null,
   "metadata": {
    "vscode": {
     "languageId": "plaintext"
    }
   },
   "outputs": [],
   "source": [
    "## 🎨 Frontend Bot\n",
    "\n",
    "### Purpose\n",
    "The Frontend Bot creates **legitimate and useful frontend projects** in Gitea. It's designed to simulate a real developer creating quality web projects.\n",
    "\n",
    "### Features\n",
    "- Creates professional HTML websites with modern CSS\n",
    "- Authenticates using a specific token for frontend-bot user\n",
    "- Uses Git commands directly for file uploads\n",
    "- Includes detailed logging for transparency\n",
    "\n",
    "### How it works\n",
    "1. **Authentication**: Uses a token  with user `frontend-bot`\n",
    "2. **Repository Creation**: Creates a new repository with a unique name\n",
    "3. **Content Generation**: Creates a complete HTML page with:\n",
    "   - Modern responsive design\n",
    "   - Professional CSS styling\n",
    "   - Clean structure and content\n",
    "4. **File Upload**: Uses Git clone/add/commit/push workflow\n",
    "5. **Success Report**: Provides the final repository URL\n"
   ]
  },
  {
   "cell_type": "code",
   "execution_count": null,
   "metadata": {},
   "outputs": [],
   "source": [
    "# Example of running Frontend Bot\n",
    "print(\"Frontend Bot - Simple HTML Creator\")\n",
    "print(\"Creates a simple HTML website\")\n",
    "print(\"=\" * 50)\n",
    "\n",
    "# Configuration\n",
    "gitea_url = \"http://127.0.0.1:63708\"  # Minikube Gitea URL\n",
    "username = \"frontend-bot\"\n",
    "token = \"x\"\n",
    "\n",
    "print(f\"Target: {gitea_url}\")\n",
    "print(f\"Bot User: {username}\")\n",
    "print(\"=\" * 50)\n",
    "\n",
    "# The bot will:\n",
    "# 1. Authenticate with the token\n",
    "# 2. Create a repository like \"simple-website-440\"  \n",
    "# 3. Upload a professional HTML file\n",
    "# 4. Report success with repository URL\n"
   ]
  },
  {
   "cell_type": "code",
   "execution_count": null,
   "metadata": {},
   "outputs": [],
   "source": [
    "## 🔴 Malicious Bot\n",
    "\n",
    "\n",
    "### Features\n",
    "- Creates seemingly legitimate \"security tools\" repositories\n",
    "- Injects hidden malicious payloads in Python, JavaScript, and Bash\n",
    "- Creates backdoor scripts that appear as system monitoring tools\n",
    "- Generates malicious issues with fake security instructions\n",
    "- Uses its own authentication token\n",
    "\n",
    "### How it works\n",
    "1. **Authentication**: Uses a token with user `malicious-bot`\n",
    "2. **Repository Creation**: Creates a repository named like \"security-tools-937\"\n",
    "3. **Malicious Content Injection**:\n",
    "   - **utils.py**: Python file with hidden malicious commands\n",
    "   - **scripts/monitor.py**: Backdoor disguised as system monitor\n",
    "   - **Malicious Issue**: Fake security update with harmful instructions\n",
    "4. **File Upload**: Uses the same Git workflow as frontend bot\n",
    "5. **Campaign Report**: Shows success metrics for the attack simulation\n"
   ]
  },
  {
   "cell_type": "code",
   "execution_count": null,
   "metadata": {},
   "outputs": [],
   "source": [
    "# Example of running Malicious Bot\n",
    "print(\"🔴 Malicious Bot - Educational Tool\")\n",
    "print(\"⚠️  For educational purposes and authorized testing only\")\n",
    "print(\"=\" * 60)\n",
    "\n",
    "# Configuration  \n",
    "gitea_url = \"http://127.0.0.1:63708\"  # Minikube Gitea URL\n",
    "username = \"malicious-bot\"\n",
    "token = \"x\"\n",
    "\n",
    "print(f\"🎯 Target: {gitea_url}\")\n",
    "print(f\"👤 User: {username}\")\n",
    "print(\"📋 Campaign: simple\")\n",
    "print(\"=\" * 60)\n",
    "\n",
    "# The bot will:\n",
    "# 1. Authenticate with the malicious token\n",
    "# 2. Create a repository like \"security-tools-937\"\n",
    "# 3. Upload malicious files (utils.py, scripts/monitor.py)\n",
    "# 4. Create a malicious issue with fake security instructions\n",
    "# 5. Report campaign success metrics\n"
   ]
  },
  {
   "cell_type": "code",
   "execution_count": null,
   "metadata": {},
   "outputs": [],
   "source": [
    "## ⚙️ Technical Implementation\n",
    "\n",
    "Both bots share the same technical foundation but serve different purposes:\n",
    "\n",
    "### Shared Components\n",
    "- **Authentication**: Both use Gitea API with personal access tokens\n",
    "- **Repository Creation**: Use Gitea REST API to create new repositories  \n",
    "- **File Upload**: Use Git commands directly (clone, add, commit, push)\n",
    "- **Logging**: Detailed step-by-step logging for transparency\n",
    "- **Error Handling**: Robust error handling with fallback mechanisms\n",
    "\n",
    "### Key Differences\n",
    "\n",
    "| Aspect | Frontend Bot | Malicious Bot |\n",
    "|--------|-------------|---------------|\n",
    "| **Purpose** | Create legitimate projects | Educational security testing |\n",
    "| **User** | frontend-bot | malicious-bot |\n",
    "| **Content** | Professional HTML/CSS | Hidden malicious payloads |\n",
    "| **Repository Names** | `simple-website-XXX` | `security-tools-XXX` |\n",
    "| **Files Created** | index.html | utils.py, scripts/monitor.py |\n",
    "| **Additional Actions** | Setup instructions issue | Malicious security issue |\n"
   ]
  },
  {
   "cell_type": "code",
   "execution_count": null,
   "metadata": {},
   "outputs": [],
   "source": []
  },
  {
   "cell_type": "code",
   "execution_count": null,
   "metadata": {},
   "outputs": [],
   "source": []
  },
  {
   "cell_type": "code",
   "execution_count": null,
   "metadata": {},
   "outputs": [],
   "source": []
  }
 ],
 "metadata": {
  "kernelspec": {
   "display_name": "Python [conda env:base] *",
   "language": "python",
   "name": "conda-base-py"
  },
  "language_info": {
   "codemirror_mode": {
    "name": "ipython",
    "version": 3
   },
   "file_extension": ".py",
   "mimetype": "text/x-python",
   "name": "python",
   "nbconvert_exporter": "python",
   "pygments_lexer": "ipython3",
   "version": "3.12.7"
  }
 },
 "nbformat": 4,
 "nbformat_minor": 4
}
