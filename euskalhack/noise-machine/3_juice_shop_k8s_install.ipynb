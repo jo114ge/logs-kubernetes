{
 "cells": [
  {
   "cell_type": "markdown",
   "metadata": {
    "vscode": {
     "languageId": "plaintext"
    }
   },
   "source": [
    "# Installing OWASP Juice Shop on Kubernetes\n",
    "\n",
    "This notebook provides a simple and concise guide to install OWASP Juice Shop in a separate Kubernetes namespace.\n",
    "\n",
    "## Prerequisites\n",
    "- Kubernetes cluster running (minikube, kind, or cloud provider)\n",
    "- kubectl configured and connected to your cluster\n",
    "- Basic understanding of Kubernetes concepts\n"
   ]
  },
  {
   "cell_type": "markdown",
   "metadata": {
    "vscode": {
     "languageId": "plaintext"
    }
   },
   "source": [
    "## Step 1: Create a New Namespace\n",
    "\n",
    "First, we'll create a dedicated namespace for Juice Shop to keep it isolated from other applications.\n"
   ]
  },
  {
   "cell_type": "code",
   "execution_count": null,
   "metadata": {
    "vscode": {
     "languageId": "plaintext"
    }
   },
   "outputs": [],
   "source": [
    "# Create the namespace   \n",
    "kubectl create namespace juice-shop\n",
    "\n",
    "# Verify the namespace was created\n",
    "kubectl get namespaces\n"
   ]
  },
  {
   "cell_type": "code",
   "execution_count": null,
   "metadata": {
    "vscode": {
     "languageId": "plaintext"
    }
   },
   "outputs": [],
   "source": [
    "## Step 2: Create Deployment YAML\n",
    "\n",
    "Create a deployment configuration for Juice Shop. This will define how the application runs in the cluster.\n"
   ]
  },
  {
   "cell_type": "code",
   "execution_count": null,
   "metadata": {
    "vscode": {
     "languageId": "plaintext"
    }
   },
   "outputs": [],
   "source": [
    "# Create deployment YAML file\n",
    "cat << EOF > juice-shop-deployment.yaml\n",
    "apiVersion: apps/v1\n",
    "kind: Deployment\n",
    "metadata:\n",
    "  name: juice-shop\n",
    "  namespace: juice-shop\n",
    "  labels:\n",
    "    app: juice-shop\n",
    "spec:\n",
    "  replicas: 1\n",
    "  selector:\n",
    "    matchLabels:\n",
    "      app: juice-shop\n",
    "  template:\n",
    "    metadata:\n",
    "      labels:\n",
    "        app: juice-shop\n",
    "    spec:\n",
    "      containers:\n",
    "      - name: juice-shop\n",
    "        image: bkimminich/juice-shop:latest\n",
    "        ports:\n",
    "        - containerPort: 3000\n",
    "        resources:\n",
    "          requests:\n",
    "            memory: \"256Mi\"\n",
    "            cpu: \"250m\"\n",
    "          limits:\n",
    "            memory: \"512Mi\"\n",
    "            cpu: \"500m\"\n",
    "EOF\n"
   ]
  },
  {
   "cell_type": "code",
   "execution_count": null,
   "metadata": {
    "vscode": {
     "languageId": "plaintext"
    }
   },
   "outputs": [],
   "source": [
    "## Step 3: Create Service YAML\n",
    "\n",
    "Create a service to expose the Juice Shop application within the cluster and potentially externally.\n"
   ]
  },
  {
   "cell_type": "code",
   "execution_count": null,
   "metadata": {
    "vscode": {
     "languageId": "plaintext"
    }
   },
   "outputs": [],
   "source": [
    "# Create service YAML file\n",
    "cat << EOF > juice-shop-service.yaml\n",
    "apiVersion: v1\n",
    "kind: Service\n",
    "metadata:\n",
    "  name: juice-shop-service\n",
    "  namespace: juice-shop\n",
    "  labels:\n",
    "    app: juice-shop\n",
    "spec:\n",
    "  type: NodePort\n",
    "  ports:\n",
    "  - port: 3000\n",
    "    targetPort: 3000\n",
    "    nodePort: 30000\n",
    "  selector:\n",
    "    app: juice-shop\n",
    "EOF\n"
   ]
  },
  {
   "cell_type": "code",
   "execution_count": null,
   "metadata": {
    "vscode": {
     "languageId": "plaintext"
    }
   },
   "outputs": [],
   "source": [
    "## Step 4: Deploy to Kubernetes\n",
    "\n",
    "Apply the configuration files to deploy Juice Shop to your Kubernetes cluster.\n",
    "\n",
    "### Method 1: Individual YAML Files\n",
    "Apply each file separately for granular control.\n"
   ]
  },
  {
   "cell_type": "code",
   "execution_count": null,
   "metadata": {
    "vscode": {
     "languageId": "plaintext"
    }
   },
   "outputs": [],
   "source": [
    "# Apply the deployment\n",
    "kubectl apply -f juice-shop-deployment.yaml\n",
    "\n",
    "# Apply the service\n",
    "kubectl apply -f juice-shop-service.yaml\n",
    "\n",
    "# Check the deployment status\n",
    "kubectl get deployments -n juice-shop\n",
    "\n",
    "# Check the pods\n",
    "kubectl get pods -n juice-shop\n",
    "\n",
    "# Check the service\n",
    "kubectl get services -n juice-shop\n"
   ]
  },
  {
   "cell_type": "code",
   "execution_count": null,
   "metadata": {
    "vscode": {
     "languageId": "plaintext"
    }
   },
   "outputs": [],
   "source": [
    "### Method 2: Using Kustomize (Recommended)\n",
    "\n",
    "Kustomize is a built-in Kubernetes tool that allows you to manage multiple YAML files as a single unit. This is more efficient and easier to manage.\n"
   ]
  },
  {
   "cell_type": "code",
   "execution_count": null,
   "metadata": {
    "vscode": {
     "languageId": "plaintext"
    }
   },
   "outputs": [],
   "source": [
    "# First, create a kustomization.yaml file\n",
    "cat << EOF > kustomization.yaml\n",
    "apiVersion: kustomize.config.k8s.io/v1beta1\n",
    "kind: Kustomization\n",
    "\n",
    "metadata:\n",
    "  name: juice-shop\n",
    "  namespace: juice-shop\n",
    "\n",
    "resources:\n",
    "- juice-shop-deployment.yaml\n",
    "- juice-shop-service.yaml\n",
    "\n",
    "commonLabels:\n",
    "  app: juice-shop\n",
    "  component: web-application\n",
    "EOF\n"
   ]
  },
  {
   "cell_type": "code",
   "execution_count": null,
   "metadata": {
    "vscode": {
     "languageId": "plaintext"
    }
   },
   "outputs": [],
   "source": [
    "# Deploy everything with a single command using Kustomize\n",
    "kubectl apply -k .\n",
    "\n",
    "# Check the deployment status\n",
    "kubectl get all -n juice-shop\n",
    "\n",
    "# Verify that common labels were applied\n",
    "kubectl get pods -n juice-shop --show-labels\n"
   ]
  },
  {
   "cell_type": "code",
   "execution_count": null,
   "metadata": {
    "vscode": {
     "languageId": "plaintext"
    }
   },
   "outputs": [],
   "source": [
    "### Kustomize Benefits\n",
    "\n",
    "- **Single Command**: Deploy all resources with `kubectl apply -k .`\n",
    "- **Easy Management**: Update all resources together\n"
   ]
  },
  {
   "cell_type": "code",
   "execution_count": null,
   "metadata": {
    "vscode": {
     "languageId": "plaintext"
    }
   },
   "outputs": [],
   "source": [
    "## Step 5: Access the Application\n",
    "\n",
    "Once deployed, you can access Juice Shop through different methods depending on your cluster setup.\n"
   ]
  },
  {
   "cell_type": "code",
   "execution_count": null,
   "metadata": {
    "vscode": {
     "languageId": "plaintext"
    }
   },
   "outputs": [],
   "source": [
    "# For Minikube users - get the service URL\n",
    "minikube service juice-shop-service -n juice-shop --url\n",
    "\n",
    "# For other clusters - port forward to access locally\n",
    "kubectl port-forward service/juice-shop-service 3000:3000 -n juice-shop\n",
    "\n",
    "\n"
   ]
  },
  {
   "cell_type": "code",
   "execution_count": null,
   "metadata": {
    "vscode": {
     "languageId": "plaintext"
    }
   },
   "outputs": [],
   "source": [
    "## Step 6: Verify Installation\n",
    "\n",
    "Check that everything is running correctly and troubleshoot if needed.\n"
   ]
  },
  {
   "cell_type": "code",
   "execution_count": null,
   "metadata": {
    "vscode": {
     "languageId": "plaintext"
    }
   },
   "outputs": [],
   "source": [
    "# Check pod logs if there are issues\n",
    "kubectl logs -l app=juice-shop -n juice-shop\n",
    "\n",
    "# Describe the deployment for detailed information\n",
    "kubectl describe deployment juice-shop -n juice-shop\n",
    "\n",
    "# Check all resources in the namespace\n",
    "kubectl get all -n juice-shop\n"
   ]
  },
  {
   "cell_type": "code",
   "execution_count": null,
   "metadata": {
    "vscode": {
     "languageId": "plaintext"
    }
   },
   "outputs": [],
   "source": [
    "## Cleanup (Optional)\n",
    "\n",
    "When you're done testing, you can easily remove everything by deleting the namespace.\n"
   ]
  },
  {
   "cell_type": "code",
   "execution_count": null,
   "metadata": {
    "vscode": {
     "languageId": "plaintext"
    }
   },
   "outputs": [],
   "source": [
    "# Option 1: Delete using Kustomize (if you used kustomize to deploy)\n",
    "kubectl delete -k .\n",
    "\n",
    "# Option 2: Delete the entire namespace (this removes all resources)\n",
    "kubectl delete namespace juice-shop\n",
    "\n",
    "# Clean up the YAML files\n",
    "rm juice-shop-deployment.yaml juice-shop-service.yaml kustomization.yaml\n"
   ]
  },
  {
   "cell_type": "code",
   "execution_count": null,
   "metadata": {
    "vscode": {
     "languageId": "plaintext"
    }
   },
   "outputs": [],
   "source": []
  }
 ],
 "metadata": {
  "kernelspec": {
   "display_name": "Python [conda env:base] *",
   "language": "python",
   "name": "conda-base-py"
  },
  "language_info": {
   "codemirror_mode": {
    "name": "ipython",
    "version": 3
   },
   "file_extension": ".py",
   "mimetype": "text/x-python",
   "name": "python",
   "nbconvert_exporter": "python",
   "pygments_lexer": "ipython3",
   "version": "3.12.7"
  }
 },
 "nbformat": 4,
 "nbformat_minor": 4
}
