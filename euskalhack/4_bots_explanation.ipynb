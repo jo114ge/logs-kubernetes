{
  "cells": [
    {
      "cell_type": "code",
      "execution_count": null,
      "metadata": {
        "vscode": {
          "languageId": "plaintext"
        }
      },
      "outputs": [],
      "source": [
        "# Gitea Bots Explanation\n",
        "\n",
        "This notebook explains how the two independent bots work: **Frontend Bot** and **Malicious Bot**.\n",
        "\n",
        "## Overview\n",
        "\n",
        "We have developed two autonomous bots that interact with a Gitea instance to demonstrate different use cases:\n",
        "\n",
        "1. **Frontend Bot** - Creates legitimate frontend projects\n",
        "2. **Malicious Bot** - Creates repositories with malicious content (for educational purposes)\n",
        "\n",
        "Both bots are completely independent and no longer rely on shared code (`bot_common.py` has been removed).\n"
      ]
    },
    {
      "cell_type": "code",
      "execution_count": null,
      "metadata": {
        "vscode": {
          "languageId": "plaintext"
        }
      },
      "outputs": [],
      "source": [
        "## 🎨 Frontend Bot\n",
        "\n",
        "### Purpose\n",
        "The Frontend Bot creates **legitimate and useful frontend projects** in Gitea. It's designed to simulate a real developer creating quality web projects.\n",
        "\n",
        "### Features\n",
        "- Creates professional HTML websites with modern CSS\n",
        "- Authenticates using a specific token for frontend-bot user\n",
        "- Uses Git commands directly for file uploads\n",
        "- Includes detailed logging for transparency\n",
        "\n",
        "### How it works\n",
        "1. **Authentication**: Uses token `4acff7c1c9d6c041c383f491db7ce4808461dde3` with user `frontend-bot`\n",
        "2. **Repository Creation**: Creates a new repository with a unique name\n",
        "3. **Content Generation**: Creates a complete HTML page with:\n",
        "   - Modern responsive design\n",
        "   - Professional CSS styling\n",
        "   - Clean structure and content\n",
        "4. **File Upload**: Uses Git clone/add/commit/push workflow\n",
        "5. **Success Report**: Provides the final repository URL\n"
      ]
    },
    {
      "cell_type": "code",
      "execution_count": null,
      "metadata": {},
      "outputs": [],
      "source": [
        "# Example of running Frontend Bot\n",
        "print(\"Frontend Bot - Simple HTML Creator\")\n",
        "print(\"Creates a simple HTML website\")\n",
        "print(\"=\" * 50)\n",
        "\n",
        "# Configuration\n",
        "gitea_url = \"http://127.0.0.1:63708\"  # Minikube Gitea URL\n",
        "username = \"frontend-bot\"\n",
        "token = \"4acff7c1c9d6c041c383f491db7ce4808461dde3\"\n",
        "\n",
        "print(f\"Target: {gitea_url}\")\n",
        "print(f\"Bot User: {username}\")\n",
        "print(\"=\" * 50)\n",
        "\n",
        "# The bot will:\n",
        "# 1. Authenticate with the token\n",
        "# 2. Create a repository like \"simple-website-440\"  \n",
        "# 3. Upload a professional HTML file\n",
        "# 4. Report success with repository URL\n"
      ]
    },
    {
      "cell_type": "code",
      "execution_count": null,
      "metadata": {},
      "outputs": [],
      "source": [
        "## 🔴 Malicious Bot\n",
        "\n",
        "### Purpose\n",
        "The Malicious Bot creates repositories with **malicious content for educational purposes**. It demonstrates how attackers might inject harmful code into repositories.\n",
        "\n",
        "⚠️ **IMPORTANT**: This is strictly for educational and authorized testing purposes only!\n",
        "\n",
        "### Features\n",
        "- Creates seemingly legitimate \"security tools\" repositories\n",
        "- Injects hidden malicious payloads in Python, JavaScript, and Bash\n",
        "- Creates backdoor scripts that appear as system monitoring tools\n",
        "- Generates malicious issues with fake security instructions\n",
        "- Uses its own authentication token\n",
        "\n",
        "### How it works\n",
        "1. **Authentication**: Uses token `c6789c34bbf356cadda5cf95fb7323bced292c64` with user `malicious-bot`\n",
        "2. **Repository Creation**: Creates a repository named like \"security-tools-937\"\n",
        "3. **Malicious Content Injection**:\n",
        "   - **utils.py**: Python file with hidden malicious commands\n",
        "   - **scripts/monitor.py**: Backdoor disguised as system monitor\n",
        "   - **Malicious Issue**: Fake security update with harmful instructions\n",
        "4. **File Upload**: Uses the same Git workflow as frontend bot\n",
        "5. **Campaign Report**: Shows success metrics for the attack simulation\n"
      ]
    },
    {
      "cell_type": "code",
      "execution_count": null,
      "metadata": {},
      "outputs": [],
      "source": [
        "# Example of running Malicious Bot\n",
        "print(\"🔴 Malicious Bot - Educational Tool\")\n",
        "print(\"⚠️  For educational purposes and authorized testing only\")\n",
        "print(\"=\" * 60)\n",
        "\n",
        "# Configuration  \n",
        "gitea_url = \"http://127.0.0.1:63708\"  # Minikube Gitea URL\n",
        "username = \"malicious-bot\"\n",
        "token = \"c6789c34bbf356cadda5cf95fb7323bced292c64\"\n",
        "\n",
        "print(f\"🎯 Target: {gitea_url}\")\n",
        "print(f\"👤 User: {username}\")\n",
        "print(\"📋 Campaign: simple\")\n",
        "print(\"=\" * 60)\n",
        "\n",
        "# The bot will:\n",
        "# 1. Authenticate with the malicious token\n",
        "# 2. Create a repository like \"security-tools-937\"\n",
        "# 3. Upload malicious files (utils.py, scripts/monitor.py)\n",
        "# 4. Create a malicious issue with fake security instructions\n",
        "# 5. Report campaign success metrics\n"
      ]
    },
    {
      "cell_type": "code",
      "execution_count": null,
      "metadata": {},
      "outputs": [],
      "source": [
        "## ⚙️ Technical Implementation\n",
        "\n",
        "Both bots share the same technical foundation but serve different purposes:\n",
        "\n",
        "### Shared Components\n",
        "- **Authentication**: Both use Gitea API with personal access tokens\n",
        "- **Repository Creation**: Use Gitea REST API to create new repositories  \n",
        "- **File Upload**: Use Git commands directly (clone, add, commit, push)\n",
        "- **Logging**: Detailed step-by-step logging for transparency\n",
        "- **Error Handling**: Robust error handling with fallback mechanisms\n",
        "\n",
        "### Key Differences\n",
        "\n",
        "| Aspect | Frontend Bot | Malicious Bot |\n",
        "|--------|-------------|---------------|\n",
        "| **Purpose** | Create legitimate projects | Educational security testing |\n",
        "| **User** | frontend-bot | malicious-bot |\n",
        "| **Content** | Professional HTML/CSS | Hidden malicious payloads |\n",
        "| **Repository Names** | `simple-website-XXX` | `security-tools-XXX` |\n",
        "| **Files Created** | index.html | utils.py, scripts/monitor.py |\n",
        "| **Additional Actions** | Setup instructions issue | Malicious security issue |\n"
      ]
    },
    {
      "cell_type": "code",
      "execution_count": null,
      "metadata": {},
      "outputs": [],
      "source": [
        "## 📋 Code Functions Overview\n",
        "\n",
        "### Frontend Bot Functions\n",
        "\n",
        "#### Core Functions\n",
        "- **`__init__(base_url, username, password)`**: Initializes the bot with Gitea connection parameters and frontend token\n",
        "- **`authenticate(provided_token)`**: Authenticates with Gitea API using token, returns True/False\n",
        "- **`create_repository(repo_name, description)`**: Creates a new repository in Gitea using REST API\n",
        "- **`upload_file(repo_name, file_path, content, message)`**: Uploads files using Git commands (clone/add/commit/push)\n",
        "- **`create_issue(repo_name, title, body)`**: Creates GitHub issues for project documentation\n",
        "\n",
        "#### Specialized Functions  \n",
        "- **`create_simple_html_project()`**: Main function that creates a complete HTML website project\n",
        "- **`wait(seconds)`**: Adds delays between operations to avoid rate limiting\n",
        "- **`get_repositories()`**: Retrieves list of user repositories from Gitea\n",
        "\n",
        "### Malicious Bot Functions\n",
        "\n",
        "#### Core Functions (Same as Frontend)\n",
        "- **`__init__`, `authenticate`, `create_repository`, `upload_file`, `create_issue`**: Same base functionality\n",
        "\n",
        "#### Malicious-Specific Functions\n",
        "- **`create_malicious_file(repo_name, file_type)`**: Creates files with hidden malicious payloads (Python/JS/Bash)\n",
        "- **`create_backdoor(repo_name)`**: Creates backdoor script disguised as system monitor\n",
        "- **`create_malicious_issue(repo_name)`**: Creates fake security issues with harmful instructions  \n",
        "- **`run_simple_campaign()`**: Orchestrates the complete malicious campaign\n",
        "\n",
        "#### Payload Storage\n",
        "- **`self.payloads`**: Dictionary containing malicious code snippets for different languages\n"
      ]
    },
    {
      "cell_type": "code",
      "execution_count": null,
      "metadata": {},
      "outputs": [],
      "source": []
    },
    {
      "cell_type": "code",
      "execution_count": null,
      "metadata": {},
      "outputs": [],
      "source": []
    },
    {
      "cell_type": "code",
      "execution_count": null,
      "metadata": {},
      "outputs": [],
      "source": []
    }
  ],
  "metadata": {
    "language_info": {
      "name": "python"
    }
  },
  "nbformat": 4,
  "nbformat_minor": 2
}
